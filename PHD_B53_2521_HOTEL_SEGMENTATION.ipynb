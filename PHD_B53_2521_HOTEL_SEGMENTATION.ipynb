{
 "cells": [
  {
   "cell_type": "markdown",
   "metadata": {},
   "source": [
    "ML PROBLEM STATEMENT:\n",
    "\n",
    "- The problem can be concieved as a machine learning problem where we want to form a clusters of hotels with similar functionality"
   ]
  },
  {
   "cell_type": "markdown",
   "metadata": {},
   "source": [
    "EXPLORATION AND PREPROCESSING INVOLVED:\n",
    "\n",
    "- The training dataset contains 7504 rows and 15 columns\n",
    "- The test dataset contains 2469 and 15 columns"
   ]
  },
  {
   "cell_type": "markdown",
   "metadata": {},
   "source": [
    "# IMPORT LIBRARIES "
   ]
  },
  {
   "cell_type": "code",
   "execution_count": 1,
   "metadata": {},
   "outputs": [],
   "source": [
    "import numpy as np\n",
    "import pandas as pd\n",
    "import matplotlib.pyplot as plt\n",
    "import seaborn as sns"
   ]
  },
  {
   "cell_type": "markdown",
   "metadata": {},
   "source": [
    "READIND EXISTING AND NEW HOTELS DATA AS TRAIN AND TEST "
   ]
  },
  {
   "cell_type": "code",
   "execution_count": 5,
   "metadata": {},
   "outputs": [],
   "source": [
    "train = pd.read_csv('ExistingHotels_CustomerVisitsdata-1554810038262.csv')"
   ]
  },
  {
   "cell_type": "code",
   "execution_count": 6,
   "metadata": {},
   "outputs": [],
   "source": [
    "test = pd.read_csv('NewHotels_CutstomerVisitsdata-1554810098964.csv')"
   ]
  },
  {
   "cell_type": "markdown",
   "metadata": {},
   "source": [
    "# DATA EXPLORATION "
   ]
  },
  {
   "cell_type": "code",
   "execution_count": 4,
   "metadata": {
    "scrolled": true
   },
   "outputs": [
    {
     "data": {
      "text/html": [
       "<div>\n",
       "<style scoped>\n",
       "    .dataframe tbody tr th:only-of-type {\n",
       "        vertical-align: middle;\n",
       "    }\n",
       "\n",
       "    .dataframe tbody tr th {\n",
       "        vertical-align: top;\n",
       "    }\n",
       "\n",
       "    .dataframe thead th {\n",
       "        text-align: right;\n",
       "    }\n",
       "</style>\n",
       "<table border=\"1\" class=\"dataframe\">\n",
       "  <thead>\n",
       "    <tr style=\"text-align: right;\">\n",
       "      <th></th>\n",
       "      <th>Hotelid</th>\n",
       "      <th>userid</th>\n",
       "      <th>reviewtext</th>\n",
       "      <th>Date</th>\n",
       "      <th>NoOfReaders</th>\n",
       "      <th>HelpfulToNoOfreaders</th>\n",
       "      <th>Value_rating</th>\n",
       "      <th>Rooms_rating</th>\n",
       "      <th>Location_rating</th>\n",
       "      <th>Cleanliness_rating</th>\n",
       "      <th>Checkin_rating</th>\n",
       "      <th>Service_rating</th>\n",
       "      <th>Businessservice_rating</th>\n",
       "      <th>AverageOverallRatingOfHotel</th>\n",
       "      <th>AveragePricing</th>\n",
       "    </tr>\n",
       "  </thead>\n",
       "  <tbody>\n",
       "    <tr>\n",
       "      <th>0</th>\n",
       "      <td>hotel_101</td>\n",
       "      <td>hotel_2225</td>\n",
       "      <td>Just An Average stay This was just an average ...</td>\n",
       "      <td>Dec 13, 2008</td>\n",
       "      <td>0</td>\n",
       "      <td>0</td>\n",
       "      <td>4</td>\n",
       "      <td>4</td>\n",
       "      <td>1</td>\n",
       "      <td>4</td>\n",
       "      <td>4</td>\n",
       "      <td>4</td>\n",
       "      <td>3</td>\n",
       "      <td>3.5</td>\n",
       "      <td>$245</td>\n",
       "    </tr>\n",
       "    <tr>\n",
       "      <th>1</th>\n",
       "      <td>hotel_101</td>\n",
       "      <td>hotel_5079</td>\n",
       "      <td>go elsewhere The place is hugely overpriced an...</td>\n",
       "      <td>Dec 2, 2008</td>\n",
       "      <td>0</td>\n",
       "      <td>0</td>\n",
       "      <td>2</td>\n",
       "      <td>4</td>\n",
       "      <td>3</td>\n",
       "      <td>3</td>\n",
       "      <td>1</td>\n",
       "      <td>2</td>\n",
       "      <td>2</td>\n",
       "      <td>3.5</td>\n",
       "      <td>$245</td>\n",
       "    </tr>\n",
       "  </tbody>\n",
       "</table>\n",
       "</div>"
      ],
      "text/plain": [
       "     Hotelid      userid                                         reviewtext  \\\n",
       "0  hotel_101  hotel_2225  Just An Average stay This was just an average ...   \n",
       "1  hotel_101  hotel_5079  go elsewhere The place is hugely overpriced an...   \n",
       "\n",
       "           Date  NoOfReaders  HelpfulToNoOfreaders  Value_rating  \\\n",
       "0  Dec 13, 2008            0                     0             4   \n",
       "1   Dec 2, 2008            0                     0             2   \n",
       "\n",
       "   Rooms_rating  Location_rating  Cleanliness_rating  Checkin_rating  \\\n",
       "0             4                1                   4               4   \n",
       "1             4                3                   3               1   \n",
       "\n",
       "   Service_rating  Businessservice_rating  AverageOverallRatingOfHotel  \\\n",
       "0               4                       3                          3.5   \n",
       "1               2                       2                          3.5   \n",
       "\n",
       "  AveragePricing  \n",
       "0           $245  \n",
       "1           $245  "
      ]
     },
     "execution_count": 4,
     "metadata": {},
     "output_type": "execute_result"
    }
   ],
   "source": [
    "train.head(2)"
   ]
  },
  {
   "cell_type": "code",
   "execution_count": 5,
   "metadata": {
    "scrolled": true
   },
   "outputs": [
    {
     "data": {
      "text/html": [
       "<div>\n",
       "<style scoped>\n",
       "    .dataframe tbody tr th:only-of-type {\n",
       "        vertical-align: middle;\n",
       "    }\n",
       "\n",
       "    .dataframe tbody tr th {\n",
       "        vertical-align: top;\n",
       "    }\n",
       "\n",
       "    .dataframe thead th {\n",
       "        text-align: right;\n",
       "    }\n",
       "</style>\n",
       "<table border=\"1\" class=\"dataframe\">\n",
       "  <thead>\n",
       "    <tr style=\"text-align: right;\">\n",
       "      <th></th>\n",
       "      <th>Hotelid</th>\n",
       "      <th>userid</th>\n",
       "      <th>reviewtext</th>\n",
       "      <th>Date</th>\n",
       "      <th>NoOfReaders</th>\n",
       "      <th>HelpfulToNoOfreaders</th>\n",
       "      <th>Value_rating</th>\n",
       "      <th>Rooms_rating</th>\n",
       "      <th>Location_rating</th>\n",
       "      <th>Cleanliness_rating</th>\n",
       "      <th>Checkin_rating</th>\n",
       "      <th>Service_rating</th>\n",
       "      <th>Businessservice_rating</th>\n",
       "      <th>AverageOverallRatingOfHotel</th>\n",
       "      <th>AveragePricing</th>\n",
       "    </tr>\n",
       "  </thead>\n",
       "  <tbody>\n",
       "    <tr>\n",
       "      <th>0</th>\n",
       "      <td>hotel_104</td>\n",
       "      <td>hotel_4342</td>\n",
       "      <td>Awesome Everything about this resort was great...</td>\n",
       "      <td>Jan 5, 2009</td>\n",
       "      <td>0</td>\n",
       "      <td>0</td>\n",
       "      <td>6</td>\n",
       "      <td>6</td>\n",
       "      <td>6</td>\n",
       "      <td>6</td>\n",
       "      <td>6</td>\n",
       "      <td>6</td>\n",
       "      <td>6</td>\n",
       "      <td>4.0</td>\n",
       "      <td>$227</td>\n",
       "    </tr>\n",
       "    <tr>\n",
       "      <th>1</th>\n",
       "      <td>hotel_104</td>\n",
       "      <td>hotel_2024</td>\n",
       "      <td>Convenient  When I say Above Average I'm compa...</td>\n",
       "      <td>Nov 10, 2008</td>\n",
       "      <td>0</td>\n",
       "      <td>0</td>\n",
       "      <td>4</td>\n",
       "      <td>4</td>\n",
       "      <td>6</td>\n",
       "      <td>5</td>\n",
       "      <td>4</td>\n",
       "      <td>5</td>\n",
       "      <td>1</td>\n",
       "      <td>4.0</td>\n",
       "      <td>$227</td>\n",
       "    </tr>\n",
       "  </tbody>\n",
       "</table>\n",
       "</div>"
      ],
      "text/plain": [
       "     Hotelid      userid                                         reviewtext  \\\n",
       "0  hotel_104  hotel_4342  Awesome Everything about this resort was great...   \n",
       "1  hotel_104  hotel_2024  Convenient  When I say Above Average I'm compa...   \n",
       "\n",
       "           Date  NoOfReaders  HelpfulToNoOfreaders  Value_rating  \\\n",
       "0   Jan 5, 2009            0                     0             6   \n",
       "1  Nov 10, 2008            0                     0             4   \n",
       "\n",
       "   Rooms_rating  Location_rating  Cleanliness_rating  Checkin_rating  \\\n",
       "0             6                6                   6               6   \n",
       "1             4                6                   5               4   \n",
       "\n",
       "   Service_rating  Businessservice_rating  AverageOverallRatingOfHotel  \\\n",
       "0               6                       6                          4.0   \n",
       "1               5                       1                          4.0   \n",
       "\n",
       "  AveragePricing  \n",
       "0           $227  \n",
       "1           $227  "
      ]
     },
     "execution_count": 5,
     "metadata": {},
     "output_type": "execute_result"
    }
   ],
   "source": [
    "test.head(2)"
   ]
  },
  {
   "cell_type": "code",
   "execution_count": 7,
   "metadata": {},
   "outputs": [
    {
     "name": "stdout",
     "output_type": "stream",
     "text": [
      "The number of rows and columns are: (7504, 15)\n"
     ]
    }
   ],
   "source": [
    "print('The number of rows and columns are: {}'.format(train.shape))"
   ]
  },
  {
   "cell_type": "code",
   "execution_count": 8,
   "metadata": {},
   "outputs": [
    {
     "name": "stdout",
     "output_type": "stream",
     "text": [
      "The number of rows and columns are: (2469, 15)\n"
     ]
    }
   ],
   "source": [
    "print('The number of rows and columns are: {}'.format(test.shape))"
   ]
  },
  {
   "cell_type": "code",
   "execution_count": 6,
   "metadata": {
    "scrolled": true
   },
   "outputs": [
    {
     "name": "stdout",
     "output_type": "stream",
     "text": [
      "Null values in the train dataset\n",
      "\n",
      "Hotelid                        0\n",
      "userid                         0\n",
      "reviewtext                     0\n",
      "Date                           0\n",
      "NoOfReaders                    0\n",
      "HelpfulToNoOfreaders           0\n",
      "Value_rating                   0\n",
      "Rooms_rating                   0\n",
      "Location_rating                0\n",
      "Cleanliness_rating             0\n",
      "Checkin_rating                 0\n",
      "Service_rating                 0\n",
      "Businessservice_rating         0\n",
      "AverageOverallRatingOfHotel    0\n",
      "AveragePricing                 0\n",
      "dtype: int64\n"
     ]
    }
   ],
   "source": [
    "print('Null values in the train dataset\\n')\n",
    "print(test.isna().sum())"
   ]
  },
  {
   "cell_type": "code",
   "execution_count": 7,
   "metadata": {},
   "outputs": [
    {
     "name": "stdout",
     "output_type": "stream",
     "text": [
      "Null values in the test dataset\n",
      "\n",
      "Hotelid                        0\n",
      "userid                         0\n",
      "reviewtext                     0\n",
      "Date                           0\n",
      "NoOfReaders                    0\n",
      "HelpfulToNoOfreaders           0\n",
      "Value_rating                   0\n",
      "Rooms_rating                   0\n",
      "Location_rating                0\n",
      "Cleanliness_rating             0\n",
      "Checkin_rating                 0\n",
      "Service_rating                 0\n",
      "Businessservice_rating         0\n",
      "AverageOverallRatingOfHotel    0\n",
      "AveragePricing                 0\n",
      "dtype: int64\n"
     ]
    }
   ],
   "source": [
    "print('Null values in the test dataset\\n')\n",
    "print(test.isna().sum())"
   ]
  },
  {
   "cell_type": "code",
   "execution_count": 8,
   "metadata": {},
   "outputs": [
    {
     "name": "stdout",
     "output_type": "stream",
     "text": [
      "Train dataset has 0 duplicated values\n"
     ]
    }
   ],
   "source": [
    "print('Train dataset has {} duplicated values'.format(train.duplicated().sum()))"
   ]
  },
  {
   "cell_type": "code",
   "execution_count": 9,
   "metadata": {},
   "outputs": [
    {
     "name": "stdout",
     "output_type": "stream",
     "text": [
      "Test dataset has 0 duplicated values\n"
     ]
    }
   ],
   "source": [
    "print('Test dataset has {} duplicated values'.format(test.duplicated().sum()))"
   ]
  },
  {
   "cell_type": "code",
   "execution_count": 10,
   "metadata": {},
   "outputs": [],
   "source": [
    "#DROPPING COLOUMNS FROM THE TRAIN AND TEST DATA AS THEY WOULDN'T USED IN FURTHER PROCESS\n",
    "#FOR CLUSTERING ONLY NUMERICAL DATA IS REQUIRED\n",
    "\n",
    "train.drop(labels=['Hotelid','userid','reviewtext','Date'],axis=1,inplace=True)"
   ]
  },
  {
   "cell_type": "code",
   "execution_count": 11,
   "metadata": {},
   "outputs": [],
   "source": [
    "test.drop(labels=['Hotelid','userid','reviewtext','Date'],axis=1,inplace=True)"
   ]
  },
  {
   "cell_type": "code",
   "execution_count": 12,
   "metadata": {
    "scrolled": false
   },
   "outputs": [
    {
     "data": {
      "text/html": [
       "<div>\n",
       "<style scoped>\n",
       "    .dataframe tbody tr th:only-of-type {\n",
       "        vertical-align: middle;\n",
       "    }\n",
       "\n",
       "    .dataframe tbody tr th {\n",
       "        vertical-align: top;\n",
       "    }\n",
       "\n",
       "    .dataframe thead th {\n",
       "        text-align: right;\n",
       "    }\n",
       "</style>\n",
       "<table border=\"1\" class=\"dataframe\">\n",
       "  <thead>\n",
       "    <tr style=\"text-align: right;\">\n",
       "      <th></th>\n",
       "      <th>NoOfReaders</th>\n",
       "      <th>HelpfulToNoOfreaders</th>\n",
       "      <th>Value_rating</th>\n",
       "      <th>Rooms_rating</th>\n",
       "      <th>Location_rating</th>\n",
       "      <th>Cleanliness_rating</th>\n",
       "      <th>Checkin_rating</th>\n",
       "      <th>Service_rating</th>\n",
       "      <th>Businessservice_rating</th>\n",
       "      <th>AverageOverallRatingOfHotel</th>\n",
       "      <th>AveragePricing</th>\n",
       "    </tr>\n",
       "  </thead>\n",
       "  <tbody>\n",
       "    <tr>\n",
       "      <th>0</th>\n",
       "      <td>0</td>\n",
       "      <td>0</td>\n",
       "      <td>4</td>\n",
       "      <td>4</td>\n",
       "      <td>1</td>\n",
       "      <td>4</td>\n",
       "      <td>4</td>\n",
       "      <td>4</td>\n",
       "      <td>3</td>\n",
       "      <td>3.5</td>\n",
       "      <td>$245</td>\n",
       "    </tr>\n",
       "    <tr>\n",
       "      <th>1</th>\n",
       "      <td>0</td>\n",
       "      <td>0</td>\n",
       "      <td>2</td>\n",
       "      <td>4</td>\n",
       "      <td>3</td>\n",
       "      <td>3</td>\n",
       "      <td>1</td>\n",
       "      <td>2</td>\n",
       "      <td>2</td>\n",
       "      <td>3.5</td>\n",
       "      <td>$245</td>\n",
       "    </tr>\n",
       "    <tr>\n",
       "      <th>2</th>\n",
       "      <td>0</td>\n",
       "      <td>0</td>\n",
       "      <td>2</td>\n",
       "      <td>4</td>\n",
       "      <td>3</td>\n",
       "      <td>4</td>\n",
       "      <td>2</td>\n",
       "      <td>3</td>\n",
       "      <td>1</td>\n",
       "      <td>3.5</td>\n",
       "      <td>$245</td>\n",
       "    </tr>\n",
       "    <tr>\n",
       "      <th>3</th>\n",
       "      <td>0</td>\n",
       "      <td>0</td>\n",
       "      <td>5</td>\n",
       "      <td>5</td>\n",
       "      <td>6</td>\n",
       "      <td>6</td>\n",
       "      <td>5</td>\n",
       "      <td>5</td>\n",
       "      <td>3</td>\n",
       "      <td>3.5</td>\n",
       "      <td>$245</td>\n",
       "    </tr>\n",
       "  </tbody>\n",
       "</table>\n",
       "</div>"
      ],
      "text/plain": [
       "   NoOfReaders  HelpfulToNoOfreaders  Value_rating  Rooms_rating  \\\n",
       "0            0                     0             4             4   \n",
       "1            0                     0             2             4   \n",
       "2            0                     0             2             4   \n",
       "3            0                     0             5             5   \n",
       "\n",
       "   Location_rating  Cleanliness_rating  Checkin_rating  Service_rating  \\\n",
       "0                1                   4               4               4   \n",
       "1                3                   3               1               2   \n",
       "2                3                   4               2               3   \n",
       "3                6                   6               5               5   \n",
       "\n",
       "   Businessservice_rating  AverageOverallRatingOfHotel AveragePricing  \n",
       "0                       3                          3.5           $245  \n",
       "1                       2                          3.5           $245  \n",
       "2                       1                          3.5           $245  \n",
       "3                       3                          3.5           $245  "
      ]
     },
     "execution_count": 12,
     "metadata": {},
     "output_type": "execute_result"
    }
   ],
   "source": [
    "train.head(4)"
   ]
  },
  {
   "cell_type": "code",
   "execution_count": 13,
   "metadata": {},
   "outputs": [
    {
     "data": {
      "text/html": [
       "<div>\n",
       "<style scoped>\n",
       "    .dataframe tbody tr th:only-of-type {\n",
       "        vertical-align: middle;\n",
       "    }\n",
       "\n",
       "    .dataframe tbody tr th {\n",
       "        vertical-align: top;\n",
       "    }\n",
       "\n",
       "    .dataframe thead th {\n",
       "        text-align: right;\n",
       "    }\n",
       "</style>\n",
       "<table border=\"1\" class=\"dataframe\">\n",
       "  <thead>\n",
       "    <tr style=\"text-align: right;\">\n",
       "      <th></th>\n",
       "      <th>NoOfReaders</th>\n",
       "      <th>HelpfulToNoOfreaders</th>\n",
       "      <th>Value_rating</th>\n",
       "      <th>Rooms_rating</th>\n",
       "      <th>Location_rating</th>\n",
       "      <th>Cleanliness_rating</th>\n",
       "      <th>Checkin_rating</th>\n",
       "      <th>Service_rating</th>\n",
       "      <th>Businessservice_rating</th>\n",
       "      <th>AverageOverallRatingOfHotel</th>\n",
       "      <th>AveragePricing</th>\n",
       "    </tr>\n",
       "  </thead>\n",
       "  <tbody>\n",
       "    <tr>\n",
       "      <th>0</th>\n",
       "      <td>0</td>\n",
       "      <td>0</td>\n",
       "      <td>6</td>\n",
       "      <td>6</td>\n",
       "      <td>6</td>\n",
       "      <td>6</td>\n",
       "      <td>6</td>\n",
       "      <td>6</td>\n",
       "      <td>6</td>\n",
       "      <td>4.0</td>\n",
       "      <td>$227</td>\n",
       "    </tr>\n",
       "    <tr>\n",
       "      <th>1</th>\n",
       "      <td>0</td>\n",
       "      <td>0</td>\n",
       "      <td>4</td>\n",
       "      <td>4</td>\n",
       "      <td>6</td>\n",
       "      <td>5</td>\n",
       "      <td>4</td>\n",
       "      <td>5</td>\n",
       "      <td>1</td>\n",
       "      <td>4.0</td>\n",
       "      <td>$227</td>\n",
       "    </tr>\n",
       "    <tr>\n",
       "      <th>2</th>\n",
       "      <td>0</td>\n",
       "      <td>0</td>\n",
       "      <td>3</td>\n",
       "      <td>4</td>\n",
       "      <td>4</td>\n",
       "      <td>5</td>\n",
       "      <td>6</td>\n",
       "      <td>4</td>\n",
       "      <td>4</td>\n",
       "      <td>4.0</td>\n",
       "      <td>$227</td>\n",
       "    </tr>\n",
       "    <tr>\n",
       "      <th>3</th>\n",
       "      <td>0</td>\n",
       "      <td>0</td>\n",
       "      <td>6</td>\n",
       "      <td>6</td>\n",
       "      <td>6</td>\n",
       "      <td>6</td>\n",
       "      <td>6</td>\n",
       "      <td>6</td>\n",
       "      <td>6</td>\n",
       "      <td>4.0</td>\n",
       "      <td>$227</td>\n",
       "    </tr>\n",
       "  </tbody>\n",
       "</table>\n",
       "</div>"
      ],
      "text/plain": [
       "   NoOfReaders  HelpfulToNoOfreaders  Value_rating  Rooms_rating  \\\n",
       "0            0                     0             6             6   \n",
       "1            0                     0             4             4   \n",
       "2            0                     0             3             4   \n",
       "3            0                     0             6             6   \n",
       "\n",
       "   Location_rating  Cleanliness_rating  Checkin_rating  Service_rating  \\\n",
       "0                6                   6               6               6   \n",
       "1                6                   5               4               5   \n",
       "2                4                   5               6               4   \n",
       "3                6                   6               6               6   \n",
       "\n",
       "   Businessservice_rating  AverageOverallRatingOfHotel AveragePricing  \n",
       "0                       6                          4.0           $227  \n",
       "1                       1                          4.0           $227  \n",
       "2                       4                          4.0           $227  \n",
       "3                       6                          4.0           $227  "
      ]
     },
     "execution_count": 13,
     "metadata": {},
     "output_type": "execute_result"
    }
   ],
   "source": [
    "test.head(4)"
   ]
  },
  {
   "cell_type": "code",
   "execution_count": 14,
   "metadata": {
    "scrolled": true
   },
   "outputs": [
    {
     "name": "stdout",
     "output_type": "stream",
     "text": [
      "<class 'pandas.core.frame.DataFrame'>\n",
      "RangeIndex: 7504 entries, 0 to 7503\n",
      "Data columns (total 11 columns):\n",
      "NoOfReaders                    7504 non-null int64\n",
      "HelpfulToNoOfreaders           7504 non-null int64\n",
      "Value_rating                   7504 non-null int64\n",
      "Rooms_rating                   7504 non-null int64\n",
      "Location_rating                7504 non-null int64\n",
      "Cleanliness_rating             7504 non-null int64\n",
      "Checkin_rating                 7504 non-null int64\n",
      "Service_rating                 7504 non-null int64\n",
      "Businessservice_rating         7504 non-null int64\n",
      "AverageOverallRatingOfHotel    7504 non-null float64\n",
      "AveragePricing                 7504 non-null object\n",
      "dtypes: float64(1), int64(9), object(1)\n",
      "memory usage: 645.0+ KB\n"
     ]
    }
   ],
   "source": [
    "train.info()"
   ]
  },
  {
   "cell_type": "code",
   "execution_count": 15,
   "metadata": {},
   "outputs": [
    {
     "name": "stdout",
     "output_type": "stream",
     "text": [
      "<class 'pandas.core.frame.DataFrame'>\n",
      "RangeIndex: 2469 entries, 0 to 2468\n",
      "Data columns (total 11 columns):\n",
      "NoOfReaders                    2469 non-null int64\n",
      "HelpfulToNoOfreaders           2469 non-null int64\n",
      "Value_rating                   2469 non-null int64\n",
      "Rooms_rating                   2469 non-null int64\n",
      "Location_rating                2469 non-null int64\n",
      "Cleanliness_rating             2469 non-null int64\n",
      "Checkin_rating                 2469 non-null int64\n",
      "Service_rating                 2469 non-null int64\n",
      "Businessservice_rating         2469 non-null int64\n",
      "AverageOverallRatingOfHotel    2469 non-null float64\n",
      "AveragePricing                 2469 non-null object\n",
      "dtypes: float64(1), int64(9), object(1)\n",
      "memory usage: 212.3+ KB\n"
     ]
    }
   ],
   "source": [
    "test.info()"
   ]
  },
  {
   "cell_type": "code",
   "execution_count": 16,
   "metadata": {},
   "outputs": [],
   "source": [
    "#SPLITING THE COLOUMN AVERAGE PRICING TO REMOVE '$\n",
    "\n",
    "train['AveragePricing'] = train.AveragePricing.apply(lambda x: x.split('$')[1])"
   ]
  },
  {
   "cell_type": "code",
   "execution_count": 17,
   "metadata": {},
   "outputs": [],
   "source": [
    "train['AveragePricing'] = train.AveragePricing.astype('int64')"
   ]
  },
  {
   "cell_type": "code",
   "execution_count": 18,
   "metadata": {},
   "outputs": [],
   "source": [
    "#SPLITING THE COLOUMN AVERAGE PRICING TO REMOVE '$\n",
    "\n",
    "test['AveragePricing'] = test.AveragePricing.apply(lambda x: x.split('$')[1])"
   ]
  },
  {
   "cell_type": "code",
   "execution_count": 19,
   "metadata": {},
   "outputs": [],
   "source": [
    "test['AveragePricing'] = test.AveragePricing.astype('int64')"
   ]
  },
  {
   "cell_type": "code",
   "execution_count": 20,
   "metadata": {
    "scrolled": true
   },
   "outputs": [
    {
     "data": {
      "text/plain": [
       "0    245\n",
       "1    245\n",
       "2    245\n",
       "3    245\n",
       "Name: AveragePricing, dtype: int64"
      ]
     },
     "execution_count": 20,
     "metadata": {},
     "output_type": "execute_result"
    }
   ],
   "source": [
    "train.AveragePricing.head(4)"
   ]
  },
  {
   "cell_type": "code",
   "execution_count": 21,
   "metadata": {},
   "outputs": [
    {
     "data": {
      "text/plain": [
       "0    227\n",
       "1    227\n",
       "2    227\n",
       "3    227\n",
       "Name: AveragePricing, dtype: int64"
      ]
     },
     "execution_count": 21,
     "metadata": {},
     "output_type": "execute_result"
    }
   ],
   "source": [
    "test.AveragePricing.head(4)"
   ]
  },
  {
   "cell_type": "markdown",
   "metadata": {},
   "source": [
    "SCALING DATA WITH Z-SCORE"
   ]
  },
  {
   "cell_type": "code",
   "execution_count": 22,
   "metadata": {},
   "outputs": [],
   "source": [
    "from sklearn.preprocessing import StandardScaler\n",
    "scaler = StandardScaler()"
   ]
  },
  {
   "cell_type": "code",
   "execution_count": 23,
   "metadata": {
    "scrolled": false
   },
   "outputs": [
    {
     "name": "stderr",
     "output_type": "stream",
     "text": [
      "C:\\Users\\suraj\\Anaconda3\\lib\\site-packages\\sklearn\\utils\\validation.py:475: DataConversionWarning: Data with input dtype int64 was converted to float64 by StandardScaler.\n",
      "  warnings.warn(msg, DataConversionWarning)\n"
     ]
    },
    {
     "data": {
      "text/plain": [
       "StandardScaler(copy=True, with_mean=True, with_std=True)"
      ]
     },
     "execution_count": 23,
     "metadata": {},
     "output_type": "execute_result"
    }
   ],
   "source": [
    "scaler.fit(train['AveragePricing'].values.reshape(-1,1))"
   ]
  },
  {
   "cell_type": "code",
   "execution_count": 24,
   "metadata": {},
   "outputs": [
    {
     "name": "stderr",
     "output_type": "stream",
     "text": [
      "C:\\Users\\suraj\\Anaconda3\\lib\\site-packages\\sklearn\\utils\\validation.py:475: DataConversionWarning: Data with input dtype int64 was converted to float64 by StandardScaler.\n",
      "  warnings.warn(msg, DataConversionWarning)\n"
     ]
    }
   ],
   "source": [
    "train['AveragePricing'] = scaler.transform(train['AveragePricing'].values.reshape(-1,1))"
   ]
  },
  {
   "cell_type": "code",
   "execution_count": 25,
   "metadata": {},
   "outputs": [
    {
     "name": "stderr",
     "output_type": "stream",
     "text": [
      "C:\\Users\\suraj\\Anaconda3\\lib\\site-packages\\sklearn\\utils\\validation.py:475: DataConversionWarning: Data with input dtype int64 was converted to float64 by StandardScaler.\n",
      "  warnings.warn(msg, DataConversionWarning)\n"
     ]
    }
   ],
   "source": [
    "test['AveragePricing'] = scaler.transform(test['AveragePricing'].values.reshape(-1,1))"
   ]
  },
  {
   "cell_type": "code",
   "execution_count": 26,
   "metadata": {},
   "outputs": [
    {
     "data": {
      "text/html": [
       "<div>\n",
       "<style scoped>\n",
       "    .dataframe tbody tr th:only-of-type {\n",
       "        vertical-align: middle;\n",
       "    }\n",
       "\n",
       "    .dataframe tbody tr th {\n",
       "        vertical-align: top;\n",
       "    }\n",
       "\n",
       "    .dataframe thead th {\n",
       "        text-align: right;\n",
       "    }\n",
       "</style>\n",
       "<table border=\"1\" class=\"dataframe\">\n",
       "  <thead>\n",
       "    <tr style=\"text-align: right;\">\n",
       "      <th></th>\n",
       "      <th>NoOfReaders</th>\n",
       "      <th>HelpfulToNoOfreaders</th>\n",
       "      <th>Value_rating</th>\n",
       "      <th>Rooms_rating</th>\n",
       "      <th>Location_rating</th>\n",
       "      <th>Cleanliness_rating</th>\n",
       "      <th>Checkin_rating</th>\n",
       "      <th>Service_rating</th>\n",
       "      <th>Businessservice_rating</th>\n",
       "      <th>AverageOverallRatingOfHotel</th>\n",
       "      <th>AveragePricing</th>\n",
       "    </tr>\n",
       "  </thead>\n",
       "  <tbody>\n",
       "    <tr>\n",
       "      <th>0</th>\n",
       "      <td>0</td>\n",
       "      <td>0</td>\n",
       "      <td>4</td>\n",
       "      <td>4</td>\n",
       "      <td>1</td>\n",
       "      <td>4</td>\n",
       "      <td>4</td>\n",
       "      <td>4</td>\n",
       "      <td>3</td>\n",
       "      <td>3.5</td>\n",
       "      <td>-0.312706</td>\n",
       "    </tr>\n",
       "    <tr>\n",
       "      <th>1</th>\n",
       "      <td>0</td>\n",
       "      <td>0</td>\n",
       "      <td>2</td>\n",
       "      <td>4</td>\n",
       "      <td>3</td>\n",
       "      <td>3</td>\n",
       "      <td>1</td>\n",
       "      <td>2</td>\n",
       "      <td>2</td>\n",
       "      <td>3.5</td>\n",
       "      <td>-0.312706</td>\n",
       "    </tr>\n",
       "    <tr>\n",
       "      <th>2</th>\n",
       "      <td>0</td>\n",
       "      <td>0</td>\n",
       "      <td>2</td>\n",
       "      <td>4</td>\n",
       "      <td>3</td>\n",
       "      <td>4</td>\n",
       "      <td>2</td>\n",
       "      <td>3</td>\n",
       "      <td>1</td>\n",
       "      <td>3.5</td>\n",
       "      <td>-0.312706</td>\n",
       "    </tr>\n",
       "    <tr>\n",
       "      <th>3</th>\n",
       "      <td>0</td>\n",
       "      <td>0</td>\n",
       "      <td>5</td>\n",
       "      <td>5</td>\n",
       "      <td>6</td>\n",
       "      <td>6</td>\n",
       "      <td>5</td>\n",
       "      <td>5</td>\n",
       "      <td>3</td>\n",
       "      <td>3.5</td>\n",
       "      <td>-0.312706</td>\n",
       "    </tr>\n",
       "  </tbody>\n",
       "</table>\n",
       "</div>"
      ],
      "text/plain": [
       "   NoOfReaders  HelpfulToNoOfreaders  Value_rating  Rooms_rating  \\\n",
       "0            0                     0             4             4   \n",
       "1            0                     0             2             4   \n",
       "2            0                     0             2             4   \n",
       "3            0                     0             5             5   \n",
       "\n",
       "   Location_rating  Cleanliness_rating  Checkin_rating  Service_rating  \\\n",
       "0                1                   4               4               4   \n",
       "1                3                   3               1               2   \n",
       "2                3                   4               2               3   \n",
       "3                6                   6               5               5   \n",
       "\n",
       "   Businessservice_rating  AverageOverallRatingOfHotel  AveragePricing  \n",
       "0                       3                          3.5       -0.312706  \n",
       "1                       2                          3.5       -0.312706  \n",
       "2                       1                          3.5       -0.312706  \n",
       "3                       3                          3.5       -0.312706  "
      ]
     },
     "execution_count": 26,
     "metadata": {},
     "output_type": "execute_result"
    }
   ],
   "source": [
    "train.head(4)"
   ]
  },
  {
   "cell_type": "code",
   "execution_count": 27,
   "metadata": {},
   "outputs": [
    {
     "data": {
      "text/html": [
       "<div>\n",
       "<style scoped>\n",
       "    .dataframe tbody tr th:only-of-type {\n",
       "        vertical-align: middle;\n",
       "    }\n",
       "\n",
       "    .dataframe tbody tr th {\n",
       "        vertical-align: top;\n",
       "    }\n",
       "\n",
       "    .dataframe thead th {\n",
       "        text-align: right;\n",
       "    }\n",
       "</style>\n",
       "<table border=\"1\" class=\"dataframe\">\n",
       "  <thead>\n",
       "    <tr style=\"text-align: right;\">\n",
       "      <th></th>\n",
       "      <th>NoOfReaders</th>\n",
       "      <th>HelpfulToNoOfreaders</th>\n",
       "      <th>Value_rating</th>\n",
       "      <th>Rooms_rating</th>\n",
       "      <th>Location_rating</th>\n",
       "      <th>Cleanliness_rating</th>\n",
       "      <th>Checkin_rating</th>\n",
       "      <th>Service_rating</th>\n",
       "      <th>Businessservice_rating</th>\n",
       "      <th>AverageOverallRatingOfHotel</th>\n",
       "      <th>AveragePricing</th>\n",
       "    </tr>\n",
       "  </thead>\n",
       "  <tbody>\n",
       "    <tr>\n",
       "      <th>0</th>\n",
       "      <td>0</td>\n",
       "      <td>0</td>\n",
       "      <td>6</td>\n",
       "      <td>6</td>\n",
       "      <td>6</td>\n",
       "      <td>6</td>\n",
       "      <td>6</td>\n",
       "      <td>6</td>\n",
       "      <td>6</td>\n",
       "      <td>4.0</td>\n",
       "      <td>-0.514701</td>\n",
       "    </tr>\n",
       "    <tr>\n",
       "      <th>1</th>\n",
       "      <td>0</td>\n",
       "      <td>0</td>\n",
       "      <td>4</td>\n",
       "      <td>4</td>\n",
       "      <td>6</td>\n",
       "      <td>5</td>\n",
       "      <td>4</td>\n",
       "      <td>5</td>\n",
       "      <td>1</td>\n",
       "      <td>4.0</td>\n",
       "      <td>-0.514701</td>\n",
       "    </tr>\n",
       "    <tr>\n",
       "      <th>2</th>\n",
       "      <td>0</td>\n",
       "      <td>0</td>\n",
       "      <td>3</td>\n",
       "      <td>4</td>\n",
       "      <td>4</td>\n",
       "      <td>5</td>\n",
       "      <td>6</td>\n",
       "      <td>4</td>\n",
       "      <td>4</td>\n",
       "      <td>4.0</td>\n",
       "      <td>-0.514701</td>\n",
       "    </tr>\n",
       "    <tr>\n",
       "      <th>3</th>\n",
       "      <td>0</td>\n",
       "      <td>0</td>\n",
       "      <td>6</td>\n",
       "      <td>6</td>\n",
       "      <td>6</td>\n",
       "      <td>6</td>\n",
       "      <td>6</td>\n",
       "      <td>6</td>\n",
       "      <td>6</td>\n",
       "      <td>4.0</td>\n",
       "      <td>-0.514701</td>\n",
       "    </tr>\n",
       "  </tbody>\n",
       "</table>\n",
       "</div>"
      ],
      "text/plain": [
       "   NoOfReaders  HelpfulToNoOfreaders  Value_rating  Rooms_rating  \\\n",
       "0            0                     0             6             6   \n",
       "1            0                     0             4             4   \n",
       "2            0                     0             3             4   \n",
       "3            0                     0             6             6   \n",
       "\n",
       "   Location_rating  Cleanliness_rating  Checkin_rating  Service_rating  \\\n",
       "0                6                   6               6               6   \n",
       "1                6                   5               4               5   \n",
       "2                4                   5               6               4   \n",
       "3                6                   6               6               6   \n",
       "\n",
       "   Businessservice_rating  AverageOverallRatingOfHotel  AveragePricing  \n",
       "0                       6                          4.0       -0.514701  \n",
       "1                       1                          4.0       -0.514701  \n",
       "2                       4                          4.0       -0.514701  \n",
       "3                       6                          4.0       -0.514701  "
      ]
     },
     "execution_count": 27,
     "metadata": {},
     "output_type": "execute_result"
    }
   ],
   "source": [
    "test.head(4)"
   ]
  },
  {
   "cell_type": "markdown",
   "metadata": {},
   "source": [
    "# CLUSTERING (K-MEANS)"
   ]
  },
  {
   "cell_type": "code",
   "execution_count": 28,
   "metadata": {},
   "outputs": [],
   "source": [
    "from sklearn.cluster import KMeans\n",
    "\n",
    "wss= {}\n",
    "for k in range(1, 10):\n",
    "    kmeans = KMeans(n_clusters=k, max_iter=1000).fit(train)\n",
    "    clusters = kmeans.labels_\n",
    "    wss[k] = kmeans.inertia_ # Inertia: Sum of squared distances of samples to their closest cluster center\n",
    "    "
   ]
  },
  {
   "cell_type": "code",
   "execution_count": 29,
   "metadata": {},
   "outputs": [
    {
     "data": {
      "text/plain": [
       "{1: 459913.8539445629,\n",
       " 2: 307324.82719294936,\n",
       " 3: 213499.41746724505,\n",
       " 4: 173897.22931231372,\n",
       " 5: 153560.97821353958,\n",
       " 6: 139298.9990604297,\n",
       " 7: 124932.73801955374,\n",
       " 8: 112774.62197495614,\n",
       " 9: 103198.1110182577}"
      ]
     },
     "execution_count": 29,
     "metadata": {},
     "output_type": "execute_result"
    }
   ],
   "source": [
    "#WITHIN SUM OF SQUARES \n",
    "wss"
   ]
  },
  {
   "cell_type": "code",
   "execution_count": 30,
   "metadata": {},
   "outputs": [
    {
     "data": {
      "image/png": "[encoded data removed]",
      "text/plain": [
       "<Figure size 432x288 with 1 Axes>"
      ]
     },
     "metadata": {},
     "output_type": "display_data"
    }
   ],
   "source": [
    "plt.figure()\n",
    "plt.plot(list(wss.keys()), list(wss.values()))\n",
    "plt.xlabel(\"Number of cluster\")\n",
    "plt.ylabel(\"WSS\")\n",
    "plt.show()"
   ]
  },
  {
   "cell_type": "code",
   "execution_count": 31,
   "metadata": {},
   "outputs": [],
   "source": [
    "# Number of clusters\n",
    "kmeans = KMeans(n_clusters=4,random_state=148461)\n",
    "# Fitting the input data\n",
    "kmeans = kmeans.fit(train)\n",
    "# Getting the cluster labels\n",
    "labels = kmeans.predict(train)\n",
    "# Centroid values\n",
    "centroids = kmeans.cluster_centers_"
   ]
  },
  {
   "cell_type": "code",
   "execution_count": 32,
   "metadata": {},
   "outputs": [
    {
     "data": {
      "text/plain": [
       "array([[ 1.47847565e+00,  1.22088920e+00,  4.90402258e+00,\n",
       "         4.93789697e+00,  5.24253117e+00,  5.21406728e+00,\n",
       "         5.05010586e+00,  4.93436838e+00,  3.43236885e+00,\n",
       "         3.75629264e+00,  1.46404589e-03],\n",
       "       [ 7.67316342e+00,  6.28035982e+00,  4.25562219e+00,\n",
       "         4.26161919e+00,  2.21589205e+00,  4.45652174e+00,\n",
       "         2.08845577e+00,  4.22788606e+00,  1.54197901e+00,\n",
       "         3.75149925e+00,  1.62553330e-01],\n",
       "       [ 2.03839662e+01,  1.56329114e+01,  3.66244726e+00,\n",
       "         3.67088608e+00,  1.66244726e+00,  3.81434599e+00,\n",
       "         1.53586498e+00,  3.66666667e+00,  1.32489451e+00,\n",
       "         3.77848101e+00,  8.32733039e-03],\n",
       "       [ 2.45124851e+00,  1.78299643e+00,  1.49821641e+00,\n",
       "         1.49583829e+00,  1.65457788e+00,  1.57491082e+00,\n",
       "         1.43579073e+00,  1.52140309e+00,  1.24256837e+00,\n",
       "         3.59096314e+00, -1.33795112e-01]])"
      ]
     },
     "execution_count": 32,
     "metadata": {},
     "output_type": "execute_result"
    }
   ],
   "source": [
    "centroids"
   ]
  },
  {
   "cell_type": "code",
   "execution_count": 33,
   "metadata": {},
   "outputs": [
    {
     "data": {
      "text/plain": [
       "array([0, 3, 3, ..., 0, 0, 0])"
      ]
     },
     "execution_count": 33,
     "metadata": {},
     "output_type": "execute_result"
    }
   ],
   "source": [
    "labels"
   ]
  },
  {
   "cell_type": "code",
   "execution_count": 34,
   "metadata": {},
   "outputs": [],
   "source": [
    "test_labels = kmeans.predict(test)"
   ]
  },
  {
   "cell_type": "code",
   "execution_count": 35,
   "metadata": {},
   "outputs": [
    {
     "data": {
      "text/plain": [
       "array([0, 0, 0, ..., 3, 0, 3])"
      ]
     },
     "execution_count": 35,
     "metadata": {},
     "output_type": "execute_result"
    }
   ],
   "source": [
    "test_labels"
   ]
  },
  {
   "cell_type": "code",
   "execution_count": 36,
   "metadata": {},
   "outputs": [],
   "source": [
    "#PCA ON TRAIN AND TEST DATA TO DECOMPOSE THE DATA\n",
    "\n",
    "from sklearn.decomposition import PCA"
   ]
  },
  {
   "cell_type": "code",
   "execution_count": 37,
   "metadata": {},
   "outputs": [],
   "source": [
    "pca = PCA(n_components=3)"
   ]
  },
  {
   "cell_type": "code",
   "execution_count": 38,
   "metadata": {},
   "outputs": [
    {
     "data": {
      "text/plain": [
       "PCA(copy=True, iterated_power='auto', n_components=3, random_state=None,\n",
       "  svd_solver='auto', tol=0.0, whiten=False)"
      ]
     },
     "execution_count": 38,
     "metadata": {},
     "output_type": "execute_result"
    }
   ],
   "source": [
    "pca.fit(train)"
   ]
  },
  {
   "cell_type": "code",
   "execution_count": 39,
   "metadata": {},
   "outputs": [],
   "source": [
    "train1 = pca.transform(train)"
   ]
  },
  {
   "cell_type": "code",
   "execution_count": 40,
   "metadata": {},
   "outputs": [],
   "source": [
    "test1 = pca.transform(test)"
   ]
  },
  {
   "cell_type": "code",
   "execution_count": 41,
   "metadata": {},
   "outputs": [
    {
     "data": {
      "text/plain": [
       "(7504, 3)"
      ]
     },
     "execution_count": 41,
     "metadata": {},
     "output_type": "execute_result"
    }
   ],
   "source": [
    "train1.shape"
   ]
  },
  {
   "cell_type": "code",
   "execution_count": 42,
   "metadata": {},
   "outputs": [
    {
     "data": {
      "text/plain": [
       "(2469, 3)"
      ]
     },
     "execution_count": 42,
     "metadata": {},
     "output_type": "execute_result"
    }
   ],
   "source": [
    "test1.shape"
   ]
  },
  {
   "cell_type": "markdown",
   "metadata": {},
   "source": [
    "# PLOTING TEST AND TRAIN CLUSTERS"
   ]
  },
  {
   "cell_type": "code",
   "execution_count": 43,
   "metadata": {},
   "outputs": [
    {
     "data": {
      "text/plain": [
       "<matplotlib.collections.PathCollection at 0x25c6339afd0>"
      ]
     },
     "execution_count": 43,
     "metadata": {},
     "output_type": "execute_result"
    },
    {
     "data": {
      "image/png": "[encoded data removed]",
      "text/plain": [
       "<Figure size 1080x648 with 1 Axes>"
      ]
     },
     "metadata": {},
     "output_type": "display_data"
    }
   ],
   "source": [
    "#TRAIN CLUSTERS\n",
    "\n",
    "plt.figure(figsize=(15,9))\n",
    "plt.legend(test_labels)\n",
    "plt.scatter(train1[:, 0], train1[:, 1], c=labels)"
   ]
  },
  {
   "cell_type": "code",
   "execution_count": 44,
   "metadata": {},
   "outputs": [
    {
     "data": {
      "text/plain": [
       "<matplotlib.collections.PathCollection at 0x25c644712e8>"
      ]
     },
     "execution_count": 44,
     "metadata": {},
     "output_type": "execute_result"
    },
    {
     "data": {
      "image/png": "[encoded data removed]",
      "text/plain": [
       "<Figure size 1080x576 with 1 Axes>"
      ]
     },
     "metadata": {},
     "output_type": "display_data"
    }
   ],
   "source": [
    "#TEST CLUSTERS\n",
    "\n",
    "plt.figure(figsize=(15,8))\n",
    "plt.legend(test_labels)\n",
    "plt.scatter(test1[:, 0], test1[:, 1], c=test_labels)"
   ]
  },
  {
   "cell_type": "code",
   "execution_count": null,
   "metadata": {},
   "outputs": [],
   "source": []
  }
 ],
 "metadata": {
  "kernelspec": {
   "display_name": "Python 3",
   "language": "python",
   "name": "python3"
  },
  "language_info": {
   "codemirror_mode": {
    "name": "ipython",
    "version": 3
   },
   "file_extension": ".py",
   "mimetype": "text/x-python",
   "name": "python",
   "nbconvert_exporter": "python",
   "pygments_lexer": "ipython3",
   "version": "3.6.5"
  }
 },
 "nbformat": 4,
 "nbformat_minor": 2
}
